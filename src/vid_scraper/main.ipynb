{
 "cells": [
  {
   "cell_type": "code",
   "execution_count": 2,
   "metadata": {
    "collapsed": true,
    "pycharm": {
     "is_executing": false,
     "name": "#%%\n"
    }
   },
   "outputs": [],
   "source": [
    "import requests\n",
    "from bs4 import BeautifulSoup\n",
    "\n",
    "country_codes = [\"fra\", \"ger\"]\n",
    "u_main = \"https://www.ijf.org\"\n",
    "u_fra = \"https://www.ijf.org/country/fra/wrl\"\n",
    "\n",
    "\n",
    "def jdk_2_url(jdk_tag):\n",
    "    '''Takes HTML <tr> player rows from the national page and grabs the url.'''\n",
    "    link = jdk_tag.find(\"a\")\n",
    "    player_postfix = link[\"href\"]\n",
    "    return u_main + player_postfix + \"/videos\"\n",
    "\n",
    "page = requests.get(u_fra)\n",
    "soup = BeautifulSoup(page.content, \"html.parser\")\n",
    "wrl_jdk = soup.find_all(\"tr\", class_=\"pointer\")\n",
    "\n",
    "\n",
    "u_jdk = list(map(jdk_2_url, wrl_jdk))"
   ]
  },
  {
   "cell_type": "code",
   "execution_count": 53,
   "outputs": [],
   "source": [
    "u_jdk1 = u_jdk[0]\n",
    "u_jdk1 = \"https://www.ijf.org/judoka/3283/videos?currentContestCodeLong=eju_sen2021_m_0100_0025\"\n",
    "\n",
    "page = requests.get(u_jdk1)\n",
    "soup = BeautifulSoup(page.content, \"html.parser\")"
   ],
   "metadata": {
    "collapsed": false,
    "pycharm": {
     "name": "#%%\n",
     "is_executing": false
    }
   }
  },
  {
   "cell_type": "code",
   "execution_count": 54,
   "outputs": [],
   "source": [
    "import selenium\n"
   ],
   "metadata": {
    "collapsed": false,
    "pycharm": {
     "name": "#%%\n",
     "is_executing": false
    }
   }
  }
 ],
 "metadata": {
  "kernelspec": {
   "name": "python3",
   "language": "python",
   "display_name": "Python 3 (ipykernel)"
  },
  "language_info": {
   "codemirror_mode": {
    "name": "ipython",
    "version": 2
   },
   "file_extension": ".py",
   "mimetype": "text/x-python",
   "name": "python",
   "nbconvert_exporter": "python",
   "pygments_lexer": "ipython2",
   "version": "2.7.6"
  },
  "pycharm": {
   "stem_cell": {
    "cell_type": "raw",
    "source": [],
    "metadata": {
     "collapsed": false
    }
   }
  }
 },
 "nbformat": 4,
 "nbformat_minor": 0
}