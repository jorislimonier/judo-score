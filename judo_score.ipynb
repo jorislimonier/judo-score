{
 "cells": [
  {
   "cell_type": "code",
   "execution_count": 1,
   "metadata": {},
   "outputs": [],
   "source": [
    "import os\n",
    "import time\n",
    "from selenium import webdriver\n",
    "from selenium.webdriver.common.action_chains import ActionChains \n",
    "import pytube"
   ]
  },
  {
   "cell_type": "code",
   "execution_count": 4,
   "metadata": {},
   "outputs": [
    {
     "name": "stdout",
     "output_type": "stream",
     "text": [
      "clicked ok on cookie button\n",
      "----- 3 - ORTIZ Idalys -----\n",
      "ok video section\n",
      "Trying to download video 24 . . .\n",
      "/!\\ There has been a problem\n",
      "ok download 24\n",
      "Trying to download video 25 . . .\n",
      "ok download 25\n",
      "Trying to download video 26 . . .\n",
      "ok download 26\n",
      "----- 4 - KRASNIQI Distria -----\n",
      "ok video section\n",
      "Trying to download video 24 . . .\n",
      "/!\\ There has been a problem\n",
      "ok download 24\n",
      "Trying to download video 25 . . .\n",
      "ok download 25\n",
      "Trying to download video 26 . . .\n",
      "ok download 26\n"
     ]
    }
   ],
   "source": [
    "# open browser\n",
    "def open_browser():\n",
    "    chrome_driver = os.environ['CHROMEDRIVER'] # path to chrome driver\n",
    "    browser = webdriver.Chrome(chrome_driver)\n",
    "    browser.maximize_window()\n",
    "    return browser\n",
    "\n",
    "# download the video at a given url\n",
    "def download_video(url):\n",
    "    youtube = pytube.YouTube(url)\n",
    "    video = youtube.streams.first()\n",
    "    video.download()\n",
    "\n",
    "# scrape ijf website\n",
    "def download_fight_videos():\n",
    "    browser = open_browser()\n",
    "    # open ranking list\n",
    "    browser.get('https://www.ijf.org/wrl?category=all')\n",
    "    browser.find_element_by_css_selector('.btn.btn--red').click()\n",
    "    print('Clicked ok on cookie button')\n",
    "    time.sleep(1)\n",
    "    # get judoka <td>\n",
    "    judokas = browser.find_elements_by_css_selector('.name >a')\n",
    "    # get judokas' link to profile\n",
    "    judokas_video_section = [name.get_attribute('href') + '/videos' for name in judokas]\n",
    "    # get judokas' name\n",
    "    judokas_name = [jn.text for jn in judokas]\n",
    "    # iterate over judokas\n",
    "    for judoka_i in range(3, 5):\n",
    "        name = judokas_name[judoka_i]\n",
    "        video_section_link = judokas_video_section[judoka_i]\n",
    "        print(f'----- {judoka_i} - {name} -----')\n",
    "        # open video section\n",
    "        profile = browser.get(video_section_link)\n",
    "        print('ok video section')\n",
    "        time.sleep(2)\n",
    "        judoka_videos = browser.find_elements_by_css_selector('.video-list-thumb')\n",
    "        for video in judoka_videos[24:27]:\n",
    "            print(f'Trying to download video {judoka_videos.index(video)} . . .')\n",
    "            for _ in range(2):\n",
    "                try:\n",
    "#                     time.sleep(.5)\n",
    "                    actions = ActionChains(browser)\n",
    "                    actions.move_to_element(video).perform()\n",
    "                    video.click()\n",
    "                    # get url of fight\n",
    "                    iframe = browser.find_element_by_css_selector('iframe')\n",
    "                    browser.switch_to.frame(iframe)\n",
    "                    fight_url = browser.find_element_by_css_selector('.ytp-title-link.yt-uix-sessionlink').get_attribute('href')\n",
    "                    # download fight video\n",
    "                    download_video(fight_url)\n",
    "                    print(f'ok download {judoka_videos.index(video)}')\n",
    "                    browser.switch_to.default_content()\n",
    "                    break\n",
    "                except:\n",
    "                    print('/!\\ There has been a problem')\n",
    "                    browser.switch_to.default_content()\n",
    "    browser.quit()\n",
    "    \n",
    "download_fight_videos()"
   ]
  },
  {
   "cell_type": "code",
   "execution_count": null,
   "metadata": {},
   "outputs": [],
   "source": []
  },
  {
   "cell_type": "code",
   "execution_count": null,
   "metadata": {},
   "outputs": [],
   "source": []
  },
  {
   "cell_type": "code",
   "execution_count": null,
   "metadata": {},
   "outputs": [],
   "source": []
  },
  {
   "cell_type": "code",
   "execution_count": null,
   "metadata": {},
   "outputs": [],
   "source": []
  },
  {
   "cell_type": "code",
   "execution_count": null,
   "metadata": {},
   "outputs": [],
   "source": []
  },
  {
   "cell_type": "code",
   "execution_count": null,
   "metadata": {},
   "outputs": [],
   "source": []
  },
  {
   "cell_type": "code",
   "execution_count": null,
   "metadata": {},
   "outputs": [],
   "source": []
  },
  {
   "cell_type": "code",
   "execution_count": null,
   "metadata": {},
   "outputs": [],
   "source": []
  }
 ],
 "metadata": {
  "kernelspec": {
   "display_name": "Python 3",
   "language": "python",
   "name": "python3"
  },
  "language_info": {
   "codemirror_mode": {
    "name": "ipython",
    "version": 3
   },
   "file_extension": ".py",
   "mimetype": "text/x-python",
   "name": "python",
   "nbconvert_exporter": "python",
   "pygments_lexer": "ipython3",
   "version": "3.8.6"
  }
 },
 "nbformat": 4,
 "nbformat_minor": 4
}
