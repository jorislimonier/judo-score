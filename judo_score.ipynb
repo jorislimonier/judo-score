{
 "cells": [
  {
   "cell_type": "code",
   "execution_count": 1,
   "metadata": {},
   "outputs": [],
   "source": [
    "import os\n",
    "import time\n",
    "from selenium import webdriver\n",
    "from selenium.webdriver.common.action_chains import ActionChains \n",
    "import pytube"
   ]
  },
  {
   "cell_type": "code",
   "execution_count": 4,
   "metadata": {},
   "outputs": [
    {
     "name": "stdout",
     "output_type": "stream",
     "text": [
      "clicked ok on cookie button\n",
      "----- 3 - ORTIZ Idalys -----\n",
      "ok video section\n",
      "Trying to download video 24 . . .\n",
      "/!\\ There has been a problem\n",
      "ok download 24\n",
      "Trying to download video 25 . . .\n",
      "ok download 25\n",
      "Trying to download video 26 . . .\n",
      "ok download 26\n",
      "----- 4 - KRASNIQI Distria -----\n",
      "ok video section\n",
      "Trying to download video 24 . . .\n",
      "/!\\ There has been a problem\n",
      "ok download 24\n",
      "Trying to download video 25 . . .\n",
      "ok download 25\n",
      "Trying to download video 26 . . .\n",
      "ok download 26\n"
     ]
    }
   ],
   "source": [
    "# open browser\n",
    "def open_browser():\n",
    "    chrome_driver = os.environ['CHROMEDRIVER'] # path to chrome driver\n",
    "    browser = webdriver.Chrome(chrome_driver)\n",
    "    browser.maximize_window()\n",
    "    return browser\n",
    "\n",
    "# download the video at a given url\n",
    "def download_video(url):\n",
    "    youtube = pytube.YouTube(url)\n",
    "    video = youtube.streams.first()\n",
    "    video.download()\n",
    "\n",
    "# scrape ijf website\n",
    "def download_fight_videos():\n",
    "    browser = open_browser()\n",
    "    # open ranking list\n",
    "    browser.get('https://www.ijf.org/wrl?category=all')\n",
    "    browser.find_element_by_css_selector('.btn.btn--red').click()\n",
    "    print('clicked ok on cookie button')\n",
    "    time.sleep(1)\n",
    "    # get judoka <td>\n",
    "    judokas = browser.find_elements_by_css_selector('.name >a')\n",
    "    # get judokas' link to profile\n",
    "    judokas_video_section = [name.get_attribute('href') + '/videos' for name in judokas]\n",
    "    # get judokas' name\n",
    "    judokas_name = [jn.text for jn in judokas]\n",
    "    # iterate over judokas\n",
    "    for judoka_i in range(3, 5):\n",
    "        name = judokas_name[judoka_i]\n",
    "        video_section_link = judokas_video_section[judoka_i]\n",
    "        print(f'----- {judoka_i} - {name} -----')\n",
    "        # open video section\n",
    "        profile = browser.get(video_section_link)\n",
    "        print('ok video section')\n",
    "        time.sleep(2)\n",
    "        judoka_videos = browser.find_elements_by_css_selector('.video-list-thumb')\n",
    "        for video in judoka_videos[24:27]:\n",
    "            print(f'Trying to download video {judoka_videos.index(video)} . . .')\n",
    "            for _ in range(2):\n",
    "                try:\n",
    "#                     time.sleep(.5)\n",
    "                    actions = ActionChains(browser)\n",
    "                    actions.move_to_element(video).perform()\n",
    "                    video.click()\n",
    "                    # get url of fight\n",
    "                    iframe = browser.find_element_by_css_selector('iframe')\n",
    "                    browser.switch_to.frame(iframe)\n",
    "                    fight_url = browser.find_element_by_css_selector('.ytp-title-link.yt-uix-sessionlink').get_attribute('href')\n",
    "                    # download fight video\n",
    "                    download_video(fight_url)\n",
    "                    print(f'ok download {judoka_videos.index(video)}')\n",
    "                    browser.switch_to.default_content()\n",
    "                    break\n",
    "                except:\n",
    "                    print('/!\\ There has been a problem')\n",
    "#                     time.sleep(1)\n",
    "                    browser.switch_to.default_content()\n",
    "    browser.quit()\n",
    "    \n",
    "download_fight_videos()"
   ]
  },
  {
   "cell_type": "code",
   "execution_count": null,
   "metadata": {},
   "outputs": [],
   "source": [
    "browser = open_browser()\n",
    "browser.get('https://www.ijf.org/judoka/16577/videos?currentContestCodeLong=gs_hun2020_m_0090_0066')"
   ]
  },
  {
   "cell_type": "code",
   "execution_count": null,
   "metadata": {},
   "outputs": [],
   "source": [
    "browser.find_element_by_css_selector('.btn.btn--red').click()"
   ]
  },
  {
   "cell_type": "code",
   "execution_count": null,
   "metadata": {},
   "outputs": [],
   "source": [
    "time.sleep(1)\n",
    "judoka_videos = browser.find_elements_by_css_selector('.video-list-thumb')"
   ]
  },
  {
   "cell_type": "code",
   "execution_count": null,
   "metadata": {},
   "outputs": [],
   "source": []
  },
  {
   "cell_type": "code",
   "execution_count": null,
   "metadata": {},
   "outputs": [],
   "source": [
    "for video in judoka_videos[9:12]:\n",
    "    browser.switch_to.default_content()\n",
    "    actions = ActionChains(browser)\n",
    "    time.sleep(2)\n",
    "    actions.move_to_element(video).perform()\n",
    "    video.click()\n",
    "    # get url of fight\n",
    "    iframe = browser.find_element_by_xpath('/html/body/main/div[2]/div/div/div/div/div[1]/div[1]/div/span/iframe')\n",
    "    # move to iframe\n",
    "\n",
    "    browser.switch_to.frame(iframe)\n",
    "    fight_url = browser.find_element_by_css_selector('.ytp-title-link.yt-uix-sessionlink').get_attribute('href')\n",
    "    # download fight video\n",
    "    download_video(fight_url)\n",
    "    print(f'ok download {judoka_videos.index(video)}')"
   ]
  },
  {
   "cell_type": "code",
   "execution_count": null,
   "metadata": {},
   "outputs": [],
   "source": [
    "judoka_videos.index(video)"
   ]
  },
  {
   "cell_type": "code",
   "execution_count": null,
   "metadata": {},
   "outputs": [],
   "source": []
  },
  {
   "cell_type": "code",
   "execution_count": null,
   "metadata": {},
   "outputs": [],
   "source": [
    "video = judoka_videos[20]\n",
    "browser.execute_script(\"arguments[0].scrollIntoView();\", video)\n",
    "time.sleep(.5)\n",
    "video.click()\n",
    "time.sleep(.5)\n",
    "# fight_url = browser.find_element_by_id('widget2').get_attribute('src')\n",
    "# fight_url = browser.find_elements_by_css_selector('div>div>div>div>div>a')\n",
    "fight_url = browser.find_element_by_css_selector('#movie_player > div.ytp-chrome-top.ytp-show-cards-title > div.ytp-title > div > a')\n",
    "fight_url\n",
    "# download_video(fight_url)\n",
    "# [uurrll.get_attribute('class') for uurrll in fight_url if uurrll.get_attribute('class') is not None]\n"
   ]
  },
  {
   "cell_type": "code",
   "execution_count": null,
   "metadata": {},
   "outputs": [],
   "source": []
  },
  {
   "cell_type": "code",
   "execution_count": null,
   "metadata": {},
   "outputs": [],
   "source": []
  },
  {
   "cell_type": "code",
   "execution_count": null,
   "metadata": {},
   "outputs": [],
   "source": []
  },
  {
   "cell_type": "markdown",
   "metadata": {},
   "source": [
    "# Working on the cell below\n",
    "\n",
    "Trying to scroll in the video list and click the appropriate video."
   ]
  },
  {
   "cell_type": "code",
   "execution_count": null,
   "metadata": {},
   "outputs": [],
   "source": [
    "items = browser.find_elements_by_css_selector('.video-list-thumb')\n",
    "for vid_i in range(12):\n",
    "#     element = browser.find_elements_by_xpath('/html/body/main/div[2]/div/div/div/div/div[2]/div/div[1]')\n",
    "    action = ActionChains(browser)\n",
    "    action.move_to_element(items[vid_i]).click().perform()\n",
    "    time.sleep(.5)\n",
    "    browser.execute_script(\"window.scrollTo(0,\" + str(120*vid_i) + \")\")\n",
    "    time.sleep(.5)"
   ]
  },
  {
   "cell_type": "code",
   "execution_count": null,
   "metadata": {},
   "outputs": [],
   "source": [
    "items = browser.find_elements_by_css_selector('.video-list-thumb')\n",
    "for i in range(3,12):\n",
    "#     time.sleep(1)\n",
    "    browser.execute_script(\"arguments[0].scrollIntoView();\", items[i])\n",
    "#     time.sleep(1)\n",
    "    items[i].click()"
   ]
  },
  {
   "cell_type": "code",
   "execution_count": null,
   "metadata": {},
   "outputs": [],
   "source": []
  },
  {
   "cell_type": "code",
   "execution_count": null,
   "metadata": {},
   "outputs": [],
   "source": []
  },
  {
   "cell_type": "code",
   "execution_count": null,
   "metadata": {},
   "outputs": [],
   "source": []
  }
 ],
 "metadata": {
  "kernelspec": {
   "display_name": "Python 3",
   "language": "python",
   "name": "python3"
  },
  "language_info": {
   "codemirror_mode": {
    "name": "ipython",
    "version": 3
   },
   "file_extension": ".py",
   "mimetype": "text/x-python",
   "name": "python",
   "nbconvert_exporter": "python",
   "pygments_lexer": "ipython3",
   "version": "3.8.6"
  }
 },
 "nbformat": 4,
 "nbformat_minor": 4
}
