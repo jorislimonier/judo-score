{
 "cells": [
  {
   "cell_type": "code",
   "execution_count": 1,
   "metadata": {},
   "outputs": [],
   "source": [
    "import os\n",
    "import time\n",
    "from selenium import webdriver\n",
    "import pytube"
   ]
  },
  {
   "cell_type": "code",
   "execution_count": 15,
   "metadata": {},
   "outputs": [
    {
     "name": "stdout",
     "output_type": "stream",
     "text": [
      "----- 42 - ASAHINA Sarah -----\n",
      "ok video section\n",
      "Sleeping some more\n",
      "ok download\n",
      "----- 43 - TUSHISHVILI Guram -----\n",
      "ok video section\n",
      "Sleeping some more\n",
      "ok download\n"
     ]
    }
   ],
   "source": [
    "# open browser\n",
    "def open_browser():\n",
    "    chrome_driver = os.environ['CHROMEDRIVER'] # path to chrome driver\n",
    "    browser = webdriver.Chrome(chrome_driver)\n",
    "    browser.maximize_window()\n",
    "    return browser\n",
    "\n",
    "# download the video at a given url\n",
    "def download_video(url):\n",
    "    youtube = pytube.YouTube(url)\n",
    "    video = youtube.streams.first()\n",
    "    video.download()\n",
    "\n",
    "# scrape ijf website\n",
    "def download_fight_videos():\n",
    "    browser = open_browser()\n",
    "    # open ranking list\n",
    "    browser.get('https://www.ijf.org/wrl?category=all')\n",
    "    # get judoka <td>\n",
    "    judokas = browser.find_elements_by_css_selector('.name >a')\n",
    "    # get judokas' link to profile\n",
    "    judokas_video_section = [name.get_attribute('href') + '/videos' for name in judokas]\n",
    "    # get judokas' name\n",
    "    judokas_name = [jn.text for jn in judokas]\n",
    "    for judoka_i in range(42, 44):\n",
    "        name = judokas_name[judoka_i]\n",
    "        video_section_link = judokas_video_section[judoka_i]\n",
    "        print(f'----- {judoka_i} - {name} -----')\n",
    "        try:\n",
    "            time.sleep(2)\n",
    "            # open video section\n",
    "            profile = browser.get(video_section_link)\n",
    "            print('ok video section')\n",
    "            for trial in range(6):\n",
    "                try:\n",
    "                    # get url of fight\n",
    "                    fight_url = browser.find_element_by_id('widget2').get_attribute('src')\n",
    "                except:\n",
    "                    print('Sleeping some more')\n",
    "                    time.sleep(2)\n",
    "            # download fight video\n",
    "            download_video(fight_url)\n",
    "            print('ok download')\n",
    "    #             time.sleep(2)\n",
    "            # handle error such as private videos\n",
    "        except:\n",
    "            print(f\"error for {name}\")\n",
    "            time.sleep(2)\n",
    "            pass\n",
    "    browser.quit()\n",
    "    \n",
    "download_fight_videos()"
   ]
  },
  {
   "cell_type": "code",
   "execution_count": null,
   "metadata": {},
   "outputs": [],
   "source": []
  },
  {
   "cell_type": "code",
   "execution_count": null,
   "metadata": {},
   "outputs": [],
   "source": []
  },
  {
   "cell_type": "code",
   "execution_count": null,
   "metadata": {},
   "outputs": [],
   "source": []
  },
  {
   "cell_type": "code",
   "execution_count": null,
   "metadata": {},
   "outputs": [],
   "source": []
  },
  {
   "cell_type": "code",
   "execution_count": null,
   "metadata": {},
   "outputs": [],
   "source": []
  },
  {
   "cell_type": "code",
   "execution_count": null,
   "metadata": {},
   "outputs": [],
   "source": []
  }
 ],
 "metadata": {
  "kernelspec": {
   "display_name": "Python 3",
   "language": "python",
   "name": "python3"
  },
  "language_info": {
   "codemirror_mode": {
    "name": "ipython",
    "version": 3
   },
   "file_extension": ".py",
   "mimetype": "text/x-python",
   "name": "python",
   "nbconvert_exporter": "python",
   "pygments_lexer": "ipython3",
   "version": "3.8.6"
  }
 },
 "nbformat": 4,
 "nbformat_minor": 4
}
