{
 "cells": [
  {
   "cell_type": "code",
   "execution_count": 1,
   "metadata": {},
   "outputs": [],
   "source": [
    "import os\n",
    "import time\n",
    "from selenium import webdriver\n",
    "from selenium.webdriver.common.action_chains import ActionChains \n",
    "import pytube\n",
    "import subprocess"
   ]
  },
  {
   "cell_type": "code",
   "execution_count": 2,
   "metadata": {},
   "outputs": [
    {
     "name": "stdout",
     "output_type": "stream",
     "text": [
      "Clicked ok on cookie button\n",
      "\n",
      "----- 42 - GIUFFRIDA Odette -----\n",
      "ok video section\n",
      "\n",
      "Trying to download video 6 . . .\n",
      "...moving to video\n",
      "......getting url of fight\n",
      "............trying to download fight videos\n",
      "..............................ok download 6\n",
      "\n",
      "Trying to download video 7 . . .\n",
      "...moving to video\n",
      "......getting url of fight\n",
      "............trying to download fight videos\n",
      "..............................ok download 7\n",
      "\n",
      "----- 43 - TUSHISHVILI Guram -----\n",
      "ok video section\n",
      "\n",
      "Trying to download video 6 . . .\n",
      "...moving to video\n",
      "......getting url of fight\n",
      "............trying to download fight videos\n",
      "..............................ok download 6\n",
      "\n",
      "Trying to download video 7 . . .\n",
      "...moving to video\n",
      "......getting url of fight\n",
      "............trying to download fight videos\n",
      "..............................ok download 7\n",
      "\n",
      "----- 44 - KINDZERSKA Iryna -----\n",
      "ok video section\n"
     ]
    },
    {
     "ename": "FileNotFoundError",
     "evalue": "[WinError 3] The system cannot find the path specified: './fight_videos/kindzerska_iryna'",
     "output_type": "error",
     "traceback": [
      "\u001b[1;31m---------------------------------------------------------------------------\u001b[0m",
      "\u001b[1;31mFileNotFoundError\u001b[0m                         Traceback (most recent call last)",
      "\u001b[1;32m<ipython-input-2-de75d69eec9e>\u001b[0m in \u001b[0;36m<module>\u001b[1;34m\u001b[0m\n\u001b[0;32m     77\u001b[0m     \u001b[0mprint\u001b[0m\u001b[1;33m(\u001b[0m\u001b[0mint\u001b[0m\u001b[1;33m(\u001b[0m\u001b[0mtime\u001b[0m\u001b[1;33m.\u001b[0m\u001b[0mtime\u001b[0m\u001b[1;33m(\u001b[0m\u001b[1;33m)\u001b[0m \u001b[1;33m-\u001b[0m \u001b[0mstart_time\u001b[0m\u001b[1;33m)\u001b[0m\u001b[1;33m,\u001b[0m \u001b[1;34m'seconds'\u001b[0m\u001b[1;33m)\u001b[0m\u001b[1;33m\u001b[0m\u001b[1;33m\u001b[0m\u001b[0m\n\u001b[0;32m     78\u001b[0m \u001b[1;33m\u001b[0m\u001b[0m\n\u001b[1;32m---> 79\u001b[1;33m \u001b[0mdownload_fight_videos\u001b[0m\u001b[1;33m(\u001b[0m\u001b[1;33m)\u001b[0m\u001b[1;33m\u001b[0m\u001b[1;33m\u001b[0m\u001b[0m\n\u001b[0m",
      "\u001b[1;32m<ipython-input-2-de75d69eec9e>\u001b[0m in \u001b[0;36mdownload_fight_videos\u001b[1;34m()\u001b[0m\n\u001b[0;32m     73\u001b[0m                     \u001b[0mtime\u001b[0m\u001b[1;33m.\u001b[0m\u001b[0msleep\u001b[0m\u001b[1;33m(\u001b[0m\u001b[1;36m1\u001b[0m\u001b[1;33m)\u001b[0m\u001b[1;33m\u001b[0m\u001b[1;33m\u001b[0m\u001b[0m\n\u001b[0;32m     74\u001b[0m                     \u001b[0mbrowser\u001b[0m\u001b[1;33m.\u001b[0m\u001b[0mswitch_to\u001b[0m\u001b[1;33m.\u001b[0m\u001b[0mdefault_content\u001b[0m\u001b[1;33m(\u001b[0m\u001b[1;33m)\u001b[0m\u001b[1;33m\u001b[0m\u001b[1;33m\u001b[0m\u001b[0m\n\u001b[1;32m---> 75\u001b[1;33m         \u001b[0mfree_up_space\u001b[0m\u001b[1;33m(\u001b[0m\u001b[0mfighter_subfolder_name\u001b[0m\u001b[1;33m)\u001b[0m\u001b[1;33m\u001b[0m\u001b[1;33m\u001b[0m\u001b[0m\n\u001b[0m\u001b[0;32m     76\u001b[0m     \u001b[0mbrowser\u001b[0m\u001b[1;33m.\u001b[0m\u001b[0mquit\u001b[0m\u001b[1;33m(\u001b[0m\u001b[1;33m)\u001b[0m\u001b[1;33m\u001b[0m\u001b[1;33m\u001b[0m\u001b[0m\n\u001b[0;32m     77\u001b[0m     \u001b[0mprint\u001b[0m\u001b[1;33m(\u001b[0m\u001b[0mint\u001b[0m\u001b[1;33m(\u001b[0m\u001b[0mtime\u001b[0m\u001b[1;33m.\u001b[0m\u001b[0mtime\u001b[0m\u001b[1;33m(\u001b[0m\u001b[1;33m)\u001b[0m \u001b[1;33m-\u001b[0m \u001b[0mstart_time\u001b[0m\u001b[1;33m)\u001b[0m\u001b[1;33m,\u001b[0m \u001b[1;34m'seconds'\u001b[0m\u001b[1;33m)\u001b[0m\u001b[1;33m\u001b[0m\u001b[1;33m\u001b[0m\u001b[0m\n",
      "\u001b[1;32m<ipython-input-2-de75d69eec9e>\u001b[0m in \u001b[0;36mfree_up_space\u001b[1;34m(path)\u001b[0m\n\u001b[0;32m     15\u001b[0m \u001b[1;32mdef\u001b[0m \u001b[0mfree_up_space\u001b[0m\u001b[1;33m(\u001b[0m\u001b[0mpath\u001b[0m\u001b[1;33m)\u001b[0m\u001b[1;33m:\u001b[0m\u001b[1;33m\u001b[0m\u001b[1;33m\u001b[0m\u001b[0m\n\u001b[0;32m     16\u001b[0m \u001b[1;31m#     path = ''.join((os.getcwd(), '\\\\fight_videos'))\u001b[0m\u001b[1;33m\u001b[0m\u001b[1;33m\u001b[0m\u001b[1;33m\u001b[0m\u001b[0m\n\u001b[1;32m---> 17\u001b[1;33m     \u001b[0mfile_paths\u001b[0m \u001b[1;33m=\u001b[0m \u001b[1;33m[\u001b[0m\u001b[0mpath\u001b[0m \u001b[1;33m+\u001b[0m \u001b[1;34m'\\\\'\u001b[0m \u001b[1;33m+\u001b[0m \u001b[0mfile_path\u001b[0m \u001b[1;32mfor\u001b[0m \u001b[0mfile_path\u001b[0m \u001b[1;32min\u001b[0m \u001b[0mos\u001b[0m\u001b[1;33m.\u001b[0m\u001b[0mlistdir\u001b[0m\u001b[1;33m(\u001b[0m\u001b[0mpath\u001b[0m\u001b[1;33m)\u001b[0m\u001b[1;33m]\u001b[0m\u001b[1;33m\u001b[0m\u001b[1;33m\u001b[0m\u001b[0m\n\u001b[0m\u001b[0;32m     18\u001b[0m     \u001b[1;31m# Open files in fight_videos\u001b[0m\u001b[1;33m\u001b[0m\u001b[1;33m\u001b[0m\u001b[1;33m\u001b[0m\u001b[0m\n\u001b[0;32m     19\u001b[0m     \u001b[1;32mfor\u001b[0m \u001b[0mfile_path\u001b[0m \u001b[1;32min\u001b[0m \u001b[0mfile_paths\u001b[0m\u001b[1;33m:\u001b[0m\u001b[1;33m\u001b[0m\u001b[1;33m\u001b[0m\u001b[0m\n",
      "\u001b[1;31mFileNotFoundError\u001b[0m: [WinError 3] The system cannot find the path specified: './fight_videos/kindzerska_iryna'"
     ]
    }
   ],
   "source": [
    "# open browser\n",
    "def open_browser():\n",
    "    chrome_driver = os.environ['CHROMEDRIVER'] # path to chrome driver\n",
    "    browser = webdriver.Chrome(chrome_driver)\n",
    "    browser.maximize_window()\n",
    "    return browser\n",
    "\n",
    "# download the video at a given url\n",
    "def download_video(url, location=None):\n",
    "    youtube = pytube.YouTube(url)\n",
    "    video = youtube.streams.first()\n",
    "    video.download(location)\n",
    "\n",
    "# path = r'C:\\Users\\joris\\OneDrive\\Coding\\python\\judo\\fight_videos'\n",
    "def free_up_space(path):\n",
    "#     path = ''.join((os.getcwd(), '\\\\fight_videos'))\n",
    "    file_paths = [path + '\\\\' + file_path for file_path in os.listdir(path)]\n",
    "    # Open files in fight_videos\n",
    "    for file_path in file_paths:\n",
    "        with open(file_path, 'r') as file:\n",
    "            # Free up space (OneDrive) after usage\n",
    "            subprocess.run('attrib +U -P \"' + file_path + '\"')\n",
    "    \n",
    "# scrape ijf website\n",
    "def download_fight_videos():\n",
    "    start_time = time.time()\n",
    "    browser = open_browser()\n",
    "    # open ranking list\n",
    "    browser.get('https://www.ijf.org/wrl?category=all')\n",
    "    browser.find_element_by_css_selector('.btn.btn--red').click()\n",
    "    print('Clicked ok on cookie button')\n",
    "    time.sleep(1)\n",
    "    # get judoka <td>\n",
    "    judokas = browser.find_elements_by_css_selector('.name >a')\n",
    "    # get judokas' link to profile\n",
    "    judokas_video_section = [name.get_attribute('href') + '/videos' for name in judokas]\n",
    "    # get judokas' name\n",
    "    judokas_name = [jn.text for jn in judokas]\n",
    "    # iterate over judokas\n",
    "    for judoka_i in range(42, 48):\n",
    "        name = judokas_name[judoka_i]\n",
    "        fighter_subfolder_name = './fight_videos/' +  name.lower().replace(' ', '_')\n",
    "        video_section_link = judokas_video_section[judoka_i]\n",
    "        print(f'\\n----- {judoka_i} - {name} -----')\n",
    "        # open video section\n",
    "        profile = browser.get(video_section_link)\n",
    "        print('ok video section')\n",
    "        time.sleep(3)\n",
    "        judoka_videos = browser.find_elements_by_css_selector('.video-list-thumb')\n",
    "        for video in judoka_videos[6:8]:\n",
    "            print(f'\\nTrying to download video {judoka_videos.index(video)} . . .')\n",
    "            for _ in range(2):\n",
    "                try:\n",
    "                    print('...moving to video')\n",
    "                    time.sleep(1)\n",
    "                    actions = ActionChains(browser)\n",
    "                    actions.move_to_element(video).perform()\n",
    "                    video.click()\n",
    "                    \n",
    "                    # get url of fight\n",
    "                    print('......getting url of fight')\n",
    "                    iframe = browser.find_element_by_css_selector('iframe')\n",
    "                    browser.switch_to.frame(iframe)\n",
    "                    fight_url = browser.find_element_by_css_selector('.ytp-title-link.yt-uix-sessionlink').get_attribute('href')\n",
    "                    # download fight video\n",
    "                    print('............trying to download fight videos')\n",
    "                    download_video(fight_url, location=fighter_subfolder_name)\n",
    "                    print(f'..............................ok download {judoka_videos.index(video)}')\n",
    "                    browser.switch_to.default_content()\n",
    "                    break\n",
    "                except:\n",
    "                    print('/!\\ There has been a problem')\n",
    "                    time.sleep(1)\n",
    "                    browser.switch_to.default_content()\n",
    "        free_up_space(fighter_subfolder_name)\n",
    "    browser.quit()\n",
    "    print(int(time.time() - start_time), 'seconds')\n",
    "    \n",
    "download_fight_videos()"
   ]
  },
  {
   "cell_type": "code",
   "execution_count": null,
   "metadata": {},
   "outputs": [],
   "source": []
  },
  {
   "cell_type": "code",
   "execution_count": null,
   "metadata": {},
   "outputs": [],
   "source": []
  },
  {
   "cell_type": "code",
   "execution_count": null,
   "metadata": {},
   "outputs": [],
   "source": []
  },
  {
   "cell_type": "code",
   "execution_count": null,
   "metadata": {},
   "outputs": [],
   "source": []
  },
  {
   "cell_type": "code",
   "execution_count": null,
   "metadata": {},
   "outputs": [],
   "source": []
  },
  {
   "cell_type": "code",
   "execution_count": null,
   "metadata": {},
   "outputs": [],
   "source": []
  },
  {
   "cell_type": "code",
   "execution_count": null,
   "metadata": {},
   "outputs": [],
   "source": []
  }
 ],
 "metadata": {
  "kernelspec": {
   "display_name": "Python 3",
   "language": "python",
   "name": "python3"
  },
  "language_info": {
   "codemirror_mode": {
    "name": "ipython",
    "version": 3
   },
   "file_extension": ".py",
   "mimetype": "text/x-python",
   "name": "python",
   "nbconvert_exporter": "python",
   "pygments_lexer": "ipython3",
   "version": "3.8.6"
  }
 },
 "nbformat": 4,
 "nbformat_minor": 4
}
