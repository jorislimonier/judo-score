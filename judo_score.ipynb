{
 "cells": [
  {
   "cell_type": "markdown",
   "metadata": {},
   "source": [
    "# Note to future self\n",
    "(For when you actually start the project)\n",
    "\n",
    "## About libraries\n",
    "- pytube seems to download Youtube videos just fine, even with the weird Youtube from IJF (like [that](https://www.youtube.com/embed/IZwd2xiGoyA?start=17&autoplay=1&enablejsapi=1&origin=https%3A%2F%2Fwww.ijf.org&widgetid=1))\n",
    "- cv2 is could be the way to go to analyse videos\n",
    "\n",
    "## TODO\n",
    "- VIDEO SEGMENTATION (extracting \n",
    "\n",
    "## Goal\n",
    "To write a script to decide on the score."
   ]
  },
  {
   "cell_type": "code",
   "execution_count": 1,
   "metadata": {},
   "outputs": [
    {
     "data": {
      "text/plain": [
       "'C:\\\\Users\\\\joris\\\\OneDrive\\\\Coding\\\\python\\\\judo_score\\\\gs fra2020 m 0081 0131  17 14 59  front.mp4'"
      ]
     },
     "execution_count": 1,
     "metadata": {},
     "output_type": "execute_result"
    }
   ],
   "source": [
    "import pytube\n",
    "\n",
    "url = 'https://www.youtube.com/embed/IZwd2xiGoyA?start=17&autoplay=1&enablejsapi=1&origin=https%3A%2F%2Fwww.ijf.org&widgetid=1'\n",
    "\n",
    "youtube = pytube.YouTube(url)\n",
    "video = youtube.streams.first()\n",
    "video.download()"
   ]
  }
 ],
 "metadata": {
  "kernelspec": {
   "display_name": "Python 3",
   "language": "python",
   "name": "python3"
  },
  "language_info": {
   "codemirror_mode": {
    "name": "ipython",
    "version": 3
   },
   "file_extension": ".py",
   "mimetype": "text/x-python",
   "name": "python",
   "nbconvert_exporter": "python",
   "pygments_lexer": "ipython3",
   "version": "3.8.6"
  }
 },
 "nbformat": 4,
 "nbformat_minor": 4
}
