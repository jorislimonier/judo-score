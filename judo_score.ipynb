{
 "cells": [
  {
   "cell_type": "code",
   "execution_count": 1,
   "metadata": {},
   "outputs": [],
   "source": [
    "import os\n",
    "import time\n",
    "from selenium import webdriver\n",
    "import pytube"
   ]
  },
  {
   "cell_type": "code",
   "execution_count": 2,
   "metadata": {},
   "outputs": [],
   "source": [
    "# open browser\n",
    "def open_browser():\n",
    "    chrome_driver = os.environ['CHROMEDRIVER'] # path to chrome driver\n",
    "    browser = webdriver.Chrome(chrome_driver)\n",
    "    browser.maximize_window()\n",
    "    return browser\n",
    "\n",
    "# download the video at a given url\n",
    "def download_video(url):\n",
    "    youtube = pytube.YouTube(url)\n",
    "    video = youtube.streams.first()\n",
    "    video.download()\n",
    "\n",
    "# scrape ijf website\n",
    "def download_fight_videos():\n",
    "    browser = open_browser()\n",
    "    for rank in range(3,10):\n",
    "        try:\n",
    "            # open ranking list\n",
    "            browser.get('https://www.ijf.org/wrl?category=all')\n",
    "            time.sleep(2)\n",
    "            # open judoka's page\n",
    "            judoka = browser.find_element_by_xpath('//*[@id=\"wrl\"]/div[2]/div[2]/div[2]/table/tbody/tr[' + str(rank) + ']/td[4]/a')\n",
    "            judoka.click()\n",
    "            time.sleep(2)\n",
    "            # open video section\n",
    "            browser.get(browser.current_url + '/videos')\n",
    "            time.sleep(3)\n",
    "            # get url of fight\n",
    "            fight_url = browser.find_element_by_id('widget2').get_attribute('src')\n",
    "            # download fight video\n",
    "            download_video(fight_url)\n",
    "            time.sleep(2)\n",
    "        # handle error such as private videos\n",
    "        except:\n",
    "            print(f\"error for athlete nb {rank}\")\n",
    "            pass\n",
    "    browser.quit()"
   ]
  },
  {
   "cell_type": "code",
   "execution_count": 4,
   "metadata": {},
   "outputs": [
    {
     "name": "stdout",
     "output_type": "stream",
     "text": [
      "error for athlete nb 5\n",
      "error for athlete nb 6\n"
     ]
    }
   ],
   "source": [
    "download_fight_videos()"
   ]
  },
  {
   "cell_type": "code",
   "execution_count": null,
   "metadata": {},
   "outputs": [],
   "source": []
  },
  {
   "cell_type": "code",
   "execution_count": null,
   "metadata": {},
   "outputs": [],
   "source": []
  },
  {
   "cell_type": "code",
   "execution_count": null,
   "metadata": {},
   "outputs": [],
   "source": []
  }
 ],
 "metadata": {
  "kernelspec": {
   "display_name": "Python 3",
   "language": "python",
   "name": "python3"
  },
  "language_info": {
   "codemirror_mode": {
    "name": "ipython",
    "version": 3
   },
   "file_extension": ".py",
   "mimetype": "text/x-python",
   "name": "python",
   "nbconvert_exporter": "python",
   "pygments_lexer": "ipython3",
   "version": "3.8.6"
  }
 },
 "nbformat": 4,
 "nbformat_minor": 4
}
