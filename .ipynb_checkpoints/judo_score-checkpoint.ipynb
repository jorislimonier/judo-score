{
 "cells": [
  {
   "cell_type": "code",
   "execution_count": 1,
   "metadata": {},
   "outputs": [],
   "source": [
    "import os\n",
    "import time\n",
    "from selenium import webdriver\n",
    "from selenium.webdriver.common.action_chains import ActionChains \n",
    "import pytube"
   ]
  },
  {
   "cell_type": "code",
   "execution_count": 6,
   "metadata": {},
   "outputs": [
    {
     "name": "stdout",
     "output_type": "stream",
     "text": [
      "----- 24 - MSHVIDOBADZE Robert -----\n",
      "ok video section\n",
      "Sleeping some more\n",
      "Sleeping some more\n",
      "error for MSHVIDOBADZE Robert\n",
      "----- 25 - CHO Guham -----\n",
      "ok video section\n",
      "Sleeping some more\n",
      "Sleeping some more\n",
      "ok download\n",
      "----- 26 - SILVA MORALES Ivan Felipe -----\n",
      "ok video section\n",
      "Sleeping some more\n",
      "Sleeping some more\n",
      "ok download\n",
      "----- 27 - MARUYAMA Joshiro -----\n",
      "ok video section\n",
      "Sleeping some more\n",
      "ok download\n",
      "----- 28 - SHISHIME Ai -----\n",
      "ok video section\n",
      "Sleeping some more\n",
      "Sleeping some more\n",
      "ok download\n",
      "----- 29 - TONAKI Funa -----\n",
      "ok video section\n",
      "Sleeping some more\n",
      "Sleeping some more\n",
      "ok download\n",
      "----- 30 - SONE Akira -----\n",
      "ok video section\n",
      "Sleeping some more\n",
      "Sleeping some more\n",
      "ok download\n",
      "----- 31 - TASOEV Inal -----\n",
      "ok video section\n",
      "Sleeping some more\n",
      "Sleeping some more\n",
      "error for TASOEV Inal\n",
      "----- 32 - TASHIRO Miku -----\n",
      "ok video section\n",
      "Sleeping some more\n",
      "Sleeping some more\n",
      "error for TASHIRO Miku\n",
      "----- 33 - TAKATO Naohisa -----\n",
      "ok video section\n",
      "Sleeping some more\n",
      "Sleeping some more\n",
      "ok download\n",
      "----- 34 - ALBAYRAK Vedat -----\n",
      "ok video section\n",
      "Sleeping some more\n",
      "error for ALBAYRAK Vedat\n",
      "----- 35 - POSVITE Fanny Estelle -----\n",
      "ok video section\n",
      "Sleeping some more\n",
      "Sleeping some more\n",
      "error for POSVITE Fanny Estelle\n",
      "----- 36 - YOSHIDA Tsukasa -----\n",
      "ok video section\n",
      "Sleeping some more\n",
      "error for YOSHIDA Tsukasa\n",
      "----- 37 - FONSECA Jorge -----\n",
      "error for FONSECA Jorge\n",
      "----- 38 - VAN T END Noel -----\n",
      "error for VAN T END Noel\n",
      "----- 39 - VAN DIJKE Sanne -----\n",
      "error for VAN DIJKE Sanne\n",
      "----- 40 - ABE Hifumi -----\n",
      "error for ABE Hifumi\n",
      "----- 41 - MARGELIDON Arthur -----\n",
      "error for MARGELIDON Arthur\n",
      "----- 42 - GIUFFRIDA Odette -----\n",
      "error for GIUFFRIDA Odette\n",
      "----- 43 - TUSHISHVILI Guram -----\n",
      "error for TUSHISHVILI Guram\n",
      "----- 44 - KINDZERSKA Iryna -----\n",
      "error for KINDZERSKA Iryna\n",
      "----- 45 - MAJDOV Nemanja -----\n",
      "error for MAJDOV Nemanja\n"
     ]
    }
   ],
   "source": [
    "# open browser\n",
    "def open_browser():\n",
    "    chrome_driver = os.environ['CHROMEDRIVER'] # path to chrome driver\n",
    "    browser = webdriver.Chrome(chrome_driver)\n",
    "    browser.maximize_window()\n",
    "    return browser\n",
    "\n",
    "# download the video at a given url\n",
    "def download_video(url):\n",
    "    youtube = pytube.YouTube(url)\n",
    "    video = youtube.streams.first()\n",
    "    video.download()\n",
    "\n",
    "# scrape ijf website\n",
    "def download_fight_videos():\n",
    "    browser = open_browser()\n",
    "    # open ranking list\n",
    "    browser.get('https://www.ijf.org/wrl?category=all')\n",
    "    # get judoka <td>\n",
    "    judokas = browser.find_elements_by_css_selector('.name >a')\n",
    "    # get judokas' link to profile\n",
    "    judokas_video_section = [name.get_attribute('href') + '/videos' for name in judokas]\n",
    "    # get judokas' name\n",
    "    judokas_name = [jn.text for jn in judokas]\n",
    "    for judoka_i in range(24, 46):\n",
    "        name = judokas_name[judoka_i]\n",
    "        video_section_link = judokas_video_section[judoka_i]\n",
    "        print(f'----- {judoka_i} - {name} -----')\n",
    "        try:\n",
    "            # open video section\n",
    "            profile = browser.get(video_section_link)\n",
    "            print('ok video section')\n",
    "            for trial in range(6):\n",
    "                try:\n",
    "                    # get url of fight\n",
    "                    fight_url = browser.find_element_by_id('widget2').get_attribute('src')\n",
    "                except:\n",
    "                    print('Sleeping some more')\n",
    "                    time.sleep(1)\n",
    "            # download fight video\n",
    "            download_video(fight_url)\n",
    "            print('ok download')\n",
    "    #             time.sleep(2)\n",
    "            # handle error such as private videos\n",
    "        except:\n",
    "            print(f\"error for {name}\")\n",
    "#             time.sleep(2)\n",
    "            pass\n",
    "    browser.quit()\n",
    "    \n",
    "download_fight_videos()"
   ]
  },
  {
   "cell_type": "code",
   "execution_count": null,
   "metadata": {},
   "outputs": [],
   "source": [
    "browser = open_browser()\n",
    "browser.get('https://www.ijf.org/judoka/16577/videos?currentContestCodeLong=gs_hun2020_m_0090_0066')"
   ]
  },
  {
   "cell_type": "markdown",
   "metadata": {},
   "source": [
    "# Working on the cell below\n",
    "\n",
    "Trying to scroll in the video list and click the appropriate video."
   ]
  },
  {
   "cell_type": "code",
   "execution_count": null,
   "metadata": {},
   "outputs": [],
   "source": [
    "items = browser.find_elements_by_css_selector('.video-list-thumb')\n",
    "for vid_i in range(36):\n",
    "    element = browser.find_element_by_xpath('/html/body/main/div[2]/div/div/div/div/div[2]/div/div[1]')\n",
    "    action = ActionChains(browser)\n",
    "    action.move_to_element(items[vid_i]).click().perform()\n",
    "    time.sleep(.1)\n",
    "    browser.execute_script(\"window.scrollTo(0,\" + str(120*vid_i) + \")\")\n",
    "    time.sleep(.1)"
   ]
  },
  {
   "cell_type": "code",
   "execution_count": null,
   "metadata": {},
   "outputs": [],
   "source": [
    "items[]"
   ]
  },
  {
   "cell_type": "code",
   "execution_count": null,
   "metadata": {},
   "outputs": [],
   "source": []
  },
  {
   "cell_type": "code",
   "execution_count": null,
   "metadata": {},
   "outputs": [],
   "source": []
  },
  {
   "cell_type": "code",
   "execution_count": null,
   "metadata": {},
   "outputs": [],
   "source": []
  }
 ],
 "metadata": {
  "kernelspec": {
   "display_name": "Python 3",
   "language": "python",
   "name": "python3"
  },
  "language_info": {
   "codemirror_mode": {
    "name": "ipython",
    "version": 3
   },
   "file_extension": ".py",
   "mimetype": "text/x-python",
   "name": "python",
   "nbconvert_exporter": "python",
   "pygments_lexer": "ipython3",
   "version": "3.8.6"
  }
 },
 "nbformat": 4,
 "nbformat_minor": 4
}
